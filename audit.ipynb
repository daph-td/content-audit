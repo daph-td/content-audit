{
 "cells": [
  {
   "cell_type": "markdown",
   "id": "roman-harmony",
   "metadata": {},
   "source": [
    "# Brainstorm\n",
    "\n",
    "- Task 1: Load search filter from https://docs.google.com/spreadsheets/d/1YvmsBmfjYxYi-aYJE2EX0566vyhxqMTwdir8zUtK-ls/edit#gid=2030777624\n",
    "\n",
    "- Task 2: Search for the lessons\n",
    "\n",
    "- Task 3: Get the content on QLink\n",
    "    - Task 3.1: Go through each page and copy paste the content to a doc, stored as dictionary\n",
    "    - Task 3.2: Click PDF, download PDF, load PDF content to the dictionary\n",
    "    \n",
    "- Task 4: Load the content to Grammarly\n",
    "    - Task 4.1:\n",
    "    \n",
    "- Task 5: Report the content to a csv\n",
    "    - Task 5.1: Click plagiarism\n",
    "    - Task 5.1: Identify text "
   ]
  },
  {
   "cell_type": "code",
   "execution_count": 3,
   "id": "electoral-fleet",
   "metadata": {},
   "outputs": [
    {
     "name": "stdout",
     "output_type": "stream",
     "text": [
      "- Finish importing packages\n",
      "Please input URL: https://link.quipper.com/en/organizations/58b75e136e392c6f6700000a/curriculum#curriculum\n",
      "- Finish initializing a driver\n"
     ]
    }
   ],
   "source": [
    "# Import libraries and packages for the project \n",
    "from selenium import webdriver\n",
    "from selenium.webdriver.common.keys import Keys\n",
    "from selenium.webdriver.common.by import By\n",
    "from selenium.webdriver.support.ui import WebDriverWait\n",
    "from selenium.webdriver.support import expected_conditions as EC\n",
    "from selenium.common.exceptions import NoSuchElementException\n",
    "from selenium.common.exceptions import StaleElementReferenceException\n",
    "from bs4 import BeautifulSoup\n",
    "from time import sleep\n",
    "import csv\n",
    "print('- Finish importing packages')\n",
    "\n",
    "# setup selenium webdriver\n",
    "opt = webdriver.ChromeOptions()\n",
    "#opt.add_extension(\"Block-image_v1.1.crx\")\n",
    "opt.add_argument('--disable-gpu')\n",
    "opt.add_argument(\"--window-size=1920,1080\")\n",
    "opt.add_argument(\"--start-maximized\")\n",
    "opt.add_argument('--disable-dev-shm-usage')\n",
    "opt.add_argument('--no-sandbox')\n",
    "opt.add_argument('--ignore-certificate-errors')\n",
    "#opt.add_argument(\"user-agent=Mozilla/5.0 (Macintosh; Intel Mac OS X 10_14_6) AppleWebKit/537.36 (KHTML, like Gecko) Chrome/77.0.3865.90 Safari/537.36\")\n",
    "driver = webdriver.Chrome(options=opt)\n",
    "\n",
    "# setup wait\n",
    "wait = WebDriverWait(driver, 10)\n",
    "\n",
    "# Task 2\n",
    "# Task 2.1: Open Chrome and Access login site\n",
    "driver = webdriver.Chrome()\n",
    "sleep(2)\n",
    "url = input('Please input URL: ')\n",
    "driver.get(url)\n",
    "print('- Finish initializing a driver')\n",
    "sleep(2)"
   ]
  },
  {
   "cell_type": "code",
   "execution_count": 10,
   "id": "divine-greeting",
   "metadata": {},
   "outputs": [
    {
     "name": "stdout",
     "output_type": "stream",
     "text": [
      "- Finish keying in email\n",
      "- Finish keying in pw\n",
      "- Finish Task 1: Login to Linkedin\n"
     ]
    }
   ],
   "source": [
    "# Task 1.2: Key in login credentials\n",
    "email_field = driver.find_element_by_name('email_or_username')\n",
    "email_field.send_keys('daphne.huynh@quipper.com')\n",
    "print('- Finish keying in email')\n",
    "sleep(3)\n",
    "\n",
    "password_field = driver.find_element_by_xpath('//*[@id=\"mount\"]/div[1]/div[2]/div/div[2]/form/div[2]/div[1]/div[2]/div/input')\n",
    "password_field.send_keys('Daphne@Quipper123')\n",
    "print('- Finish keying in pw')\n",
    "sleep(3)\n",
    "\n",
    "password_field = driver.find_element_by_xpath('//*[@id=\"mount\"]/div[1]/div[2]/div/div[2]/form/div[2]/div[1]/div[2]/div/input')\n",
    "password_field.send_keys(Keys.RETURN)\n",
    "print('- Finish Task 1: Login')\n",
    "sleep(3)"
   ]
  },
  {
   "cell_type": "code",
   "execution_count": 15,
   "id": "hungarian-partner",
   "metadata": {},
   "outputs": [
    {
     "name": "stdout",
     "output_type": "stream",
     "text": [
      "Please input URL: https://link.quipper.com/en/organizations/58b75e136e392c6f6700000a/curriculum#curriculum\n",
      "- Finish initializing a driver\n"
     ]
    }
   ],
   "source": [
    "url = input('Please input URL: ')\n",
    "driver.get(url)\n",
    "print('- Finish initializing a driver')\n",
    "sleep(2)"
   ]
  },
  {
   "cell_type": "code",
   "execution_count": 46,
   "id": "whole-orange",
   "metadata": {},
   "outputs": [
    {
     "name": "stdout",
     "output_type": "stream",
     "text": [
      "1: clicked\n",
      "Objective\n",
      "At the end of this lesson, you should be able to use appropriate modifiers.\n",
      "\n",
      "Essential Question\n",
      "How do modifiers affect cohesion in writing?\n",
      "Report errors \n",
      "\n",
      "\n",
      "2: clicked\n",
      "Learn about It!\n",
      "A dangling modifier is a word or group of words that describes something that is missing in a sentence, such as a noun or a pronoun. Therefore, it is a modifier that has nothing to describe or modify. \n",
      "Report errors \n",
      "\n",
      "\n",
      "3: clicked\n",
      "Learn about It!\n",
      "Correcting a Dangling Modifier\n",
      "Dangling modifiers make the meaning of a sentence unclear and sometimes illogical. This type of error occurs because of a failure to indicate the word that the modifier should be describing. \n",
      "To correct a dangling modifier, the writer must supply the missing modified word to complete the thought of the sentence. Take note that the supplied modified word(s) should also be appropriate for the context of the sentence.\n",
      "Report errors \n",
      "\n",
      "\n",
      "4: clicked\n",
      "Example\n",
      "\n",
      "Climbing a tree, my water jug fell on the ground.\n",
      "\n",
      "In this example, the phrase “climbing a tree” seems like it is modifying the water jug. It may leave an impression that the water jug was the one climbing. One way of correcting the sentence is to leave the modifier as is and insert the actual modified word after the modifier. In this case, insert the pronoun I after the phrase modifier. The corrected sentence is now “Climbing a tree, I saw my water jug fall on the ground.”\n",
      "Report errors \n",
      "\n",
      "\n",
      "5: clicked\n",
      "Check Your Understanding\n",
      "Underline the dangling modifier in each of the following sentences.\n",
      "\n",
      "Leaving quickly, her car lights were left on.\n",
      "While exercising, my shirt tore.\n",
      "\n",
      "Analyze the following sentences and revise them to correct the dangling modifiers.\n",
      "\n",
      "Reading the magazine, an article on the latest gadgets caught my eye. \n",
      "When just five years old, an old lady saved my life.\n",
      "\n",
      "Use the following modifiers to make a complete sentence. Follow the rules on avoiding dangling modifiers.\n",
      "\n",
      "Entering college, ___________________________.\n",
      "After waking up, ___________________________.\n",
      "\n",
      "Report errors \n",
      "\n",
      "\n",
      "6: clicked\n",
      "Let's Step Up!\n",
      "On a separate sheet of paper, write an informative essay about a personal life lesson or experience from your past. Specify and describe the lesson that you learned and the reason why it is important to you now. Make use of appropriate modifiers. Do not forget to put a title.\n",
      "Report errors \n",
      "\n",
      "\n",
      "7: clicked\n",
      "Key Points\n",
      "\n",
      "A modifier is dangling if the word it modifies is not present in the sentence.\n",
      "To correct a dangling modifier, the word it should modify should be supplied in the sentence.\n",
      "\n",
      "Report errors \n",
      "\n",
      "\n"
     ]
    }
   ],
   "source": [
    "# Task 3: Get the content  \n",
    "page_source = BeautifulSoup(driver.page_source)\n",
    "all_page = page_source.find('div', class_ = 'stepper')\n",
    "pages = all_page.find_all('a', class_='stepper-step')\n",
    "\n",
    "for page_no in range(1, len(pages) + 1):\n",
    "    page = driver.find_element_by_xpath(f'//*[@id=\"yield\"]/div/div[2]/div/div[1]/div/div[2]/div[2]/div/div[2]/div/div[2]/div/div[1]/div/div[1]/div/div[2]/div/a[{page_no}]')\n",
    "    # page.click()\n",
    "    driver.execute_script(\"arguments[0].click();\", page)\n",
    "    print(f'{page_no}: clicked')\n",
    "    sleep(3)\n",
    "    page_source = BeautifulSoup(driver.page_source)\n",
    "    sleep(2)\n",
    "    page_content = page_source.find('div', class_='question-content-lesson-chapter Chapter--12HKG').get_text()\n",
    "    print(page_content, '\\n\\n')"
   ]
  },
  {
   "cell_type": "code",
   "execution_count": null,
   "id": "ecological-identity",
   "metadata": {},
   "outputs": [],
   "source": []
  },
  {
   "cell_type": "code",
   "execution_count": null,
   "id": "healthy-mining",
   "metadata": {},
   "outputs": [],
   "source": []
  }
 ],
 "metadata": {
  "kernelspec": {
   "display_name": "Python 3",
   "language": "python",
   "name": "python3"
  },
  "language_info": {
   "codemirror_mode": {
    "name": "ipython",
    "version": 3
   },
   "file_extension": ".py",
   "mimetype": "text/x-python",
   "name": "python",
   "nbconvert_exporter": "python",
   "pygments_lexer": "ipython3",
   "version": "3.7.6"
  }
 },
 "nbformat": 4,
 "nbformat_minor": 5
}
