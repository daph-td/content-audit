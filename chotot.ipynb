{
 "metadata": {
  "language_info": {
   "codemirror_mode": {
    "name": "ipython",
    "version": 3
   },
   "file_extension": ".py",
   "mimetype": "text/x-python",
   "name": "python",
   "nbconvert_exporter": "python",
   "pygments_lexer": "ipython3",
   "version": "3.8.5-final"
  },
  "orig_nbformat": 2,
  "kernelspec": {
   "name": "python3",
   "display_name": "Python 3.8.5 64-bit",
   "metadata": {
    "interpreter": {
     "hash": "aee8b7b246df8f9039afb4144a1f6fd8d2ca17a180786b69acc140d282b71a49"
    }
   }
  }
 },
 "nbformat": 4,
 "nbformat_minor": 2,
 "cells": [
  {
   "cell_type": "code",
   "execution_count": 2,
   "metadata": {},
   "outputs": [
    {
     "output_type": "stream",
     "name": "stdout",
     "text": [
      "- Importing packages ...\n- Finish importing packages.\n- Opening a web browser ...\n"
     ]
    }
   ],
   "source": [
    "# Import libraries and packages for the project \n",
    "print('- Importing packages ...')\n",
    "from selenium import webdriver\n",
    "from selenium.webdriver.common.keys import Keys\n",
    "from selenium.webdriver.common.by import By\n",
    "from selenium.webdriver.support.ui import WebDriverWait\n",
    "from selenium.webdriver.support import expected_conditions as EC\n",
    "from selenium.common.exceptions import NoSuchElementException\n",
    "from selenium.common.exceptions import StaleElementReferenceException\n",
    "from selenium.webdriver.common.action_chains import ActionChains\n",
    "from bs4 import BeautifulSoup\n",
    "from time import sleep\n",
    "\n",
    "import pandas as pd\n",
    "import numpy as np\n",
    "import os\n",
    "import csv\n",
    "import sys\n",
    "sys.path.append('/Library/Frameworks/Python.framework/Versions/3.8/lib/python3.8/site-packages')\n",
    "import PyPDF2\n",
    "from tika import parser\n",
    "\n",
    "import gspread\n",
    "import gspread_dataframe as gd\n",
    "import time\n",
    "import os\n",
    "print('- Finish importing packages.')\n",
    "\n",
    "# setup selenium webdriver\n",
    "opt = webdriver.ChromeOptions()\n",
    "#opt.add_extension(\"Block-image_v1.1.crx\")\n",
    "opt.add_argument('--disable-gpu')\n",
    "opt.add_argument(\"--window-size=1920,1080\")\n",
    "opt.add_argument(\"--start-maximized\")\n",
    "opt.add_argument('--disable-dev-shm-usage')\n",
    "opt.add_argument('--no-sandbox')\n",
    "opt.add_argument('--ignore-certificate-errors')\n",
    "opt.add_argument('--disable-notifications')\n",
    "opt.add_argument(\"--disable-popup-blocking\")\n",
    "#opt.add_argument(\"user-agent=Mozilla/5.0 (Macintosh; Intel Mac OS X 10_14_6) AppleWebKit/537.36 (KHTML, like Gecko) Chrome/77.0.3865.90 Safari/537.36\")\n",
    "print('- Opening a web browser ...')\n",
    "driver = webdriver.Chrome(options=opt)\n",
    "\n",
    "# setup wait\n",
    "wait = WebDriverWait(driver, 20)\n",
    "sleep(2)"
   ]
  },
  {
   "cell_type": "code",
   "execution_count": 3,
   "metadata": {},
   "outputs": [],
   "source": [
    "text = driver.find_element_by_xpath('/html/body/div/div/div/div[2]/div/div[2]/div[2]/form/div[2]/textarea')\n",
    "text.send_keys('hi ban')"
   ]
  }
 ]
}